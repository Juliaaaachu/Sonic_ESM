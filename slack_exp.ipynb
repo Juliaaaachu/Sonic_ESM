{
 "cells": [
  {
   "cell_type": "code",
   "execution_count": 1,
   "metadata": {},
   "outputs": [],
   "source": [
    "import networkx as nx\n",
    "import matplotlib.pyplot as plt\n",
    "import pandas as pd\n",
    "import numpy as np\n",
    "import seaborn as sns"
   ]
  },
  {
   "attachments": {},
   "cell_type": "markdown",
   "metadata": {},
   "source": [
    "## Loading Dataset"
   ]
  },
  {
   "cell_type": "code",
   "execution_count": 2,
   "metadata": {},
   "outputs": [],
   "source": [
    "gender = pd.read_csv(\"../data/gender_anonymized.csv\")\n",
    "\n",
    "#row is the source, column is the target(receiver)\n",
    "message_adjmatrix = pd.read_csv(\"../data/slack_direct_matrix_anonymized.csv\", index_col=0)\n",
    "members_c_channel = pd.read_csv(\"../data/slack_members_count_channel_anonymized.csv\")\n",
    "members_c_group = pd.read_csv(\"../data/slack_members_count_group_anonymized.csv\")\n",
    "#members_c_group.head()\n",
    "\n",
    "#message_adjmatrix.head()\n",
    "#message_adjmatrix.shape\n",
    "\n",
    "# convert col into int\n",
    "message_adjmatrix.columns = message_adjmatrix.columns.astype(int)"
   ]
  },
  {
   "cell_type": "code",
   "execution_count": 3,
   "metadata": {},
   "outputs": [
    {
     "data": {
      "text/plain": [
       "False"
      ]
     },
     "execution_count": 3,
     "metadata": {},
     "output_type": "execute_result"
    }
   ],
   "source": [
    "def check_symmetric(a, rtol=1e-05, atol=1e-08):\n",
    "    return np.allclose(a, a.T, rtol=rtol, atol=atol)\n",
    "\n",
    "check_symmetric(message_adjmatrix.to_numpy())\n",
    "#meaning this should be a directed graph!"
   ]
  },
  {
   "cell_type": "code",
   "execution_count": 4,
   "metadata": {},
   "outputs": [
    {
     "name": "stdout",
     "output_type": "stream",
     "text": [
      "900209 sent 891708: 13.0 messages\n",
      "891708 sent 900209: 26.0 messages\n"
     ]
    }
   ],
   "source": [
    "#this is 900209 (row index = 26) -> 891708 (col name)\n",
    "#this value can be used for validating successful graph creation!\n",
    "print(\"900209 sent 891708:\", message_adjmatrix.loc[message_adjmatrix.index[26], 891708], \"messages\") # 900209 sent 891708 -> 13 \n",
    "print(\"891708 sent 900209:\", message_adjmatrix.loc[message_adjmatrix.index[5], 900209], \"messages\") # 891708 sent 900209 ->  26"
   ]
  },
  {
   "attachments": {},
   "cell_type": "markdown",
   "metadata": {},
   "source": [
    "## Graph Initialization & Attributes"
   ]
  },
  {
   "cell_type": "code",
   "execution_count": 5,
   "metadata": {},
   "outputs": [],
   "source": [
    "#https://notebook.community/rtidatascience/connected-nx-tutorial/notebooks/2.%20Creating%20Graphs\n",
    "\n",
    "# Creating a directed graph! \n",
    "GAAdj = nx.from_numpy_matrix(message_adjmatrix.values, create_using=nx.DiGraph())"
   ]
  },
  {
   "cell_type": "code",
   "execution_count": 6,
   "metadata": {},
   "outputs": [
    {
     "name": "stdout",
     "output_type": "stream",
     "text": [
      "900209 sent 891708: {'weight': 13.0}\n",
      "891708 sent 900209: {'weight': 26.0}\n"
     ]
    }
   ],
   "source": [
    "label_mapping = dict(zip(GAAdj.nodes(), message_adjmatrix.columns))\n",
    "GAAdj = nx.relabel_nodes(GAAdj, label_mapping)\n",
    "\n",
    "#checking directed\n",
    "#nx.is_directed(GAAdj)\n",
    "\n",
    "print(\"900209 sent 891708:\", GAAdj[900209][891708])\n",
    "print(\"891708 sent 900209:\", GAAdj[891708][900209])"
   ]
  },
  {
   "cell_type": "code",
   "execution_count": 7,
   "metadata": {},
   "outputs": [],
   "source": [
    "#gender.loc[gender['fake_id'] == 719556]['gender'][0]\n",
    "gender = gender.astype({\"fake_id\": int})\n",
    "gender_dict = dict(zip((gender.fake_id), gender.gender))"
   ]
  },
  {
   "cell_type": "code",
   "execution_count": 8,
   "metadata": {},
   "outputs": [],
   "source": [
    "#set vertex attribute: gender\n",
    "nx.set_node_attributes(GAAdj, gender_dict, name=\"gender\")"
   ]
  },
  {
   "cell_type": "code",
   "execution_count": 9,
   "metadata": {},
   "outputs": [
    {
     "name": "stdout",
     "output_type": "stream",
     "text": [
      "gender for 719556: M\n",
      "gender for 230271: F\n"
     ]
    }
   ],
   "source": [
    "#checking gender of each node\n",
    "print(\"gender for 719556:\", GAAdj.nodes[719556][\"gender\"])\n",
    "print(\"gender for 230271:\", GAAdj.nodes[230271][\"gender\"])"
   ]
  },
  {
   "attachments": {},
   "cell_type": "markdown",
   "metadata": {},
   "source": [
    "## Basic Statistic & Measures"
   ]
  },
  {
   "cell_type": "code",
   "execution_count": 10,
   "metadata": {},
   "outputs": [
    {
     "name": "stdout",
     "output_type": "stream",
     "text": [
      "nodes number:  983\n",
      "edges number:  17377\n"
     ]
    }
   ],
   "source": [
    "print(\"nodes number: \", GAAdj.number_of_nodes())\n",
    "print(\"edges number: \", GAAdj.number_of_edges())"
   ]
  },
  {
   "cell_type": "code",
   "execution_count": 11,
   "metadata": {},
   "outputs": [
    {
     "data": {
      "text/plain": [
       "Text(0.5, 1.0, 'Eigenvector')"
      ]
     },
     "execution_count": 11,
     "metadata": {},
     "output_type": "execute_result"
    },
    {
     "data": {
      "image/png": "[encoded data removed]",
      "text/plain": [
       "<Figure size 1008x576 with 6 Axes>"
      ]
     },
     "metadata": {
      "needs_background": "light"
     },
     "output_type": "display_data"
    }
   ],
   "source": [
    "fig, axs = plt.subplots(3, 2, figsize = (14, 8))\n",
    "\n",
    "axs[0, 0].hist(nx.centrality.degree_centrality(GAAdj).values())\n",
    "axs[0, 0].set_title('Degree')\n",
    "\n",
    "axs[0, 1].hist(nx.centrality.out_degree_centrality(GAAdj).values())\n",
    "axs[0, 1].set_title('Out Degree')\n",
    "\n",
    "axs[1, 0].hist(nx.centrality.betweenness_centrality(GAAdj).values())\n",
    "axs[1, 0].set_title('Betweenness')\n",
    "\n",
    "axs[1, 1].hist(nx.centrality.closeness_centrality(GAAdj).values())\n",
    "axs[1, 1].set_title('Closeness')\n",
    "\n",
    "#Eigenvector is not implemente for multi-graph type -> I used DiGraph instead \n",
    "#TODO: Is there underlying problem?\n",
    "axs[2, 0].hist(nx.centrality.eigenvector_centrality(GAAdj).values())\n",
    "axs[2, 0].set_title('Eigenvector')"
   ]
  },
  {
   "cell_type": "code",
   "execution_count": 12,
   "metadata": {},
   "outputs": [
    {
     "name": "stdout",
     "output_type": "stream",
     "text": [
      "Clustering Average for all nodes with cluster value is: 0.408299605180222 (does not include nodes with clustering coeffcient of 0)\n",
      "Clustering Average for all nodes with cluster value is: 0.22969448795998246\n",
      "Graph is strongly connected: False\n",
      "Graph is weakly connected: False\n",
      "Number of strongly connected components:  408\n",
      "Number of weakly connected components:  381\n",
      "Size of largest strongly connected components: 576\n",
      "Size of largest strongly connected components: 1\n",
      "Size of largest strongly connected components: 603\n",
      "Size of largest strongly connected components: 1\n"
     ]
    }
   ],
   "source": [
    "#Cluster Average The following is not implemented for directed Graph\n",
    "#print(\"Clustering Average:\", nx.cluster.average_clustering(GAAdj))\n",
    "\n",
    "# returns clustering coefficient for each node:\n",
    "cluster_coeff =nx.clustering(GAAdj)\n",
    "\n",
    "filtered_vals = [v for _, v in cluster_coeff.items() if v != 0]\n",
    "average = sum(filtered_vals) / len(filtered_vals)\n",
    "print(\"Clustering Average for all nodes with cluster value is:\", average, \"(does not include nodes with clustering coeffcient of 0)\")\n",
    "print(\"Clustering Average for all nodes with cluster value is:\", sum(filtered_vals) / GAAdj.number_of_nodes())\n",
    "\n",
    "# if and only if every vertex in the graph is reachable from every other vertex.\n",
    "print(\"Graph is strongly connected:\", nx.is_strongly_connected(GAAdj))\n",
    "\n",
    "#if the graph is connected when the direction of the edge between nodes is ignored.\n",
    "print(\"Graph is weakly connected:\", nx.is_weakly_connected(GAAdj))\n",
    "\n",
    "\n",
    "#Number of strongly & weakly connected components\n",
    "#Directed ties or undirected ties => will give you information about the communication silos in the organization \n",
    "#Each component can think of an informal group\n",
    "print(\"Number of strongly connected components: \", nx.number_strongly_connected_components(GAAdj))\n",
    "print(\"Number of weakly connected components: \", nx.number_weakly_connected_components(GAAdj))\n",
    "\n",
    "#Size of  strongly connected components\n",
    "largest_strong = max(nx.strongly_connected_components(GAAdj), key=len)\n",
    "smallest_strong = min(nx.strongly_connected_components(GAAdj), key=len)\n",
    "print(\"Size of largest strongly connected components:\", len(largest_strong))\n",
    "print(\"Size of largest strongly connected components:\", len(smallest_strong))\n",
    "\n",
    "#Size of weakly connected components\n",
    "largest_weak = max(nx.weakly_connected_components(GAAdj), key=len)\n",
    "smallest_weak = min(nx.weakly_connected_components(GAAdj), key=len)\n",
    "print(\"Size of largest strongly connected components:\", len(largest_weak))\n",
    "print(\"Size of largest strongly connected components:\", len(smallest_weak))\n",
    "\n",
    "#TODO: histogram of len of connected components => see the average & the distribution \n",
    "#str_cc = nx.strongly_connected_components(GAAdj)\n",
    "#      returns a generator object \n",
    "#       print(list(str_cc))"
   ]
  },
  {
   "attachments": {},
   "cell_type": "markdown",
   "metadata": {},
   "source": [
    "## Number of ties between people of the same sex\n",
    "Gender Homopholy"
   ]
  },
  {
   "cell_type": "code",
   "execution_count": 13,
   "metadata": {},
   "outputs": [
    {
     "name": "stdout",
     "output_type": "stream",
     "text": [
      "node with gender attribute: 690\n",
      "node without gender attribute: 293\n"
     ]
    }
   ],
   "source": [
    "node_w_gender = 0\n",
    "node_no_gender = 0\n",
    "\n",
    "for node in GAAdj.nodes():\n",
    "   try:\n",
    "      if (GAAdj.nodes[node]['gender'] == 'F' or GAAdj.nodes[node]['gender'] == 'M'):\n",
    "         node_w_gender += 1\n",
    "   except:\n",
    "      node_no_gender += 1\n",
    "\n",
    "\n",
    "print(\"node with gender attribute:\", node_w_gender)\n",
    "print(\"node without gender attribute:\", node_no_gender)"
   ]
  },
  {
   "cell_type": "code",
   "execution_count": 15,
   "metadata": {},
   "outputs": [
    {
     "name": "stdout",
     "output_type": "stream",
     "text": [
      "Number of Ties between Same Sex:  7192\n",
      "Number of Ties between Different Sex: 5562\n",
      "Number of Ties without Gender Attribute:  4623\n",
      "Percentage of Reaching out to Same Gender, excluding non-gendered nodes: 0.5639015210914223\n",
      "Percentage of Reaching out to Different Gender, excluding non-gendered nodes: 0.4360984789085777\n"
     ]
    }
   ],
   "source": [
    "samesex_ties = 0\n",
    "diffsex_ties = 0\n",
    "label_edges = 0\n",
    "not_labeled_edges = 0\n",
    "\n",
    "for u,v in GAAdj.edges():\n",
    "    #Note: There are some node without gender attribute, we ignore them in this scenari\n",
    "    try: \n",
    "      if (GAAdj.nodes[u]['gender'] == GAAdj.nodes[v]['gender']):\n",
    "        samesex_ties += 1\n",
    "      elif (GAAdj.nodes[u]['gender'] != GAAdj.nodes[v]['gender']):\n",
    "        diffsex_ties += 1\n",
    "\n",
    "      label_edges += 1\n",
    "    except:\n",
    "       #if one of node of the edge does not have gender attribute\n",
    "       not_labeled_edges += 1\n",
    "       pass\n",
    "\n",
    "print(\"Number of Ties between Same Sex: \", samesex_ties)\n",
    "print(\"Number of Ties between Different Sex:\", diffsex_ties)\n",
    "print(\"Number of Ties without Gender Attribute: \", not_labeled_edges)\n",
    "    \n",
    "#print((both_labeled_edges + not_labeled_edges) == GAAdj.number_of_edges())\n",
    "print(\"Percentage of Reaching out to Same Gender, excluding non-gendered nodes:\", samesex_ties / label_edges)\n",
    "print(\"Percentage of Reaching out to Different Gender, excluding non-gendered nodes:\", diffsex_ties / label_edges)"
   ]
  },
  {
   "cell_type": "code",
   "execution_count": null,
   "metadata": {},
   "outputs": [],
   "source": [
    "# Homopholy \n",
    "\n",
    "#TODO: Json\n",
    "# Number of ties between people working in the same department/team/channel/group  \n",
    "\n",
    "# Number of ties between different combinations of leaders(1) and non-leaders(0) #the managerial data \n",
    "\n",
    "# Total messages sent: sum of (messages sent from sender to receiver)/100 for all Advice ties \n",
    "\n",
    "\n",
    "#Statistical Test:\n",
    "#Exponential Random Graph Models (ERGMs)\n",
    "\n",
    "#Regression: \n",
    "# assumption, node attributes are independent \n",
    "# ties in the network are interdependent to each other;      \n",
    "  #ie if i have tie with Jasmine, I also have tie with Carli => it's more likely for Jasmine & Carli also has tie (friends' friend) = closure\n",
    "#ties in the network are not independent of each other  \n",
    "\n",
    "#that's why we use Exponential Random Graph Models (ERGMs)\n",
    "#number of tri to compare, if possiblity of ties are higher or lower than the random chance. "
   ]
  }
 ],
 "metadata": {
  "kernelspec": {
   "display_name": "Python 3",
   "language": "python",
   "name": "python3"
  },
  "language_info": {
   "codemirror_mode": {
    "name": "ipython",
    "version": 3
   },
   "file_extension": ".py",
   "mimetype": "text/x-python",
   "name": "python",
   "nbconvert_exporter": "python",
   "pygments_lexer": "ipython3",
   "version": "3.9.12"
  },
  "orig_nbformat": 4,
  "vscode": {
   "interpreter": {
    "hash": "511e2e4229bdf73f6a9bbb503e2d83b0eadb7dfa37821518ac6482ab18204c97"
   }
  }
 },
 "nbformat": 4,
 "nbformat_minor": 2
}
