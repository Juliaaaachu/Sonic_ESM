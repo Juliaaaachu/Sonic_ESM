{
 "cells": [
  {
   "cell_type": "code",
   "execution_count": 129,
   "metadata": {},
   "outputs": [],
   "source": [
    "import networkx as nx\n",
    "import matplotlib.pyplot as plt\n",
    "import pandas as pd\n",
    "import numpy as np\n",
    "import seaborn as sns"
   ]
  },
  {
   "attachments": {},
   "cell_type": "markdown",
   "metadata": {},
   "source": [
    "## Loading Dataset"
   ]
  },
  {
   "cell_type": "code",
   "execution_count": 34,
   "metadata": {},
   "outputs": [],
   "source": [
    "gender = pd.read_csv(\"../data/gender_anonymized.csv\")\n",
    "\n",
    "message_adjmatrix = pd.read_csv(\"../data/slack_direct_matrix_anonymized.csv\", index_col=0)\n",
    "members_c_channel = pd.read_csv(\"../data/slack_members_count_channel_anonymized.csv\")\n",
    "members_c_group = pd.read_csv(\"../data/slack_members_count_group_anonymized.csv\")\n",
    "#members_c_group.head()\n",
    "\n",
    "# message_adjmatrix.head()\n",
    "# message_adjmatrix.shape"
   ]
  },
  {
   "attachments": {},
   "cell_type": "markdown",
   "metadata": {},
   "source": [
    "## Graph Initialization & Attributes"
   ]
  },
  {
   "cell_type": "code",
   "execution_count": 17,
   "metadata": {},
   "outputs": [],
   "source": [
    "#https://notebook.community/rtidatascience/connected-nx-tutorial/notebooks/2.%20Creating%20Graphs\n",
    "\n",
    "# Creating \n",
    "GAAdj = nx.from_numpy_matrix(message_adjmatrix.values)"
   ]
  },
  {
   "cell_type": "code",
   "execution_count": 18,
   "metadata": {},
   "outputs": [],
   "source": [
    "label_mapping = dict(zip(GAAdj.nodes(), message_adjmatrix.columns))\n",
    "GAAdj = nx.relabel_nodes(GAAdj, label_mapping)\n"
   ]
  },
  {
   "cell_type": "code",
   "execution_count": 75,
   "metadata": {},
   "outputs": [],
   "source": [
    "#gender.loc[gender['fake_id'] == 719556]['gender'][0]\n",
    "gender = gender.astype({\"fake_id\": str})\n",
    "gender_dict = dict(zip((gender.fake_id), gender.gender))"
   ]
  },
  {
   "cell_type": "code",
   "execution_count": 81,
   "metadata": {},
   "outputs": [
    {
     "data": {
      "text/plain": [
       "'M'"
      ]
     },
     "execution_count": 81,
     "metadata": {},
     "output_type": "execute_result"
    }
   ],
   "source": [
    "#set vertex attribute: gender\n",
    "nx.set_node_attributes(GAAdj, gender_dict, name=\"gender\")\n",
    "GAAdj.nodes[\"719556\"]['gender']"
   ]
  },
  {
   "cell_type": "code",
   "execution_count": 105,
   "metadata": {},
   "outputs": [
    {
     "data": {
      "text/plain": [
       "'F'"
      ]
     },
     "execution_count": 105,
     "metadata": {},
     "output_type": "execute_result"
    }
   ],
   "source": [
    "GAAdj.nodes[\"230271\"]['gender']"
   ]
  },
  {
   "attachments": {},
   "cell_type": "markdown",
   "metadata": {},
   "source": [
    "## Basic Statistic & Measures"
   ]
  },
  {
   "cell_type": "code",
   "execution_count": 29,
   "metadata": {},
   "outputs": [
    {
     "name": "stdout",
     "output_type": "stream",
     "text": [
      "nodes number:  983\n",
      "edges number:  9006\n"
     ]
    }
   ],
   "source": [
    "print(\"nodes number: \", GAAdj.number_of_nodes())\n",
    "print(\"edges number: \", GAAdj.number_of_edges())"
   ]
  },
  {
   "cell_type": "code",
   "execution_count": 133,
   "metadata": {},
   "outputs": [
    {
     "data": {
      "text/plain": [
       "<AxesSubplot:ylabel='Count'>"
      ]
     },
     "execution_count": 133,
     "metadata": {},
     "output_type": "execute_result"
    },
    {
     "data": {
      "image/png": "[encoded data removed]",
      "text/plain": [
       "<Figure size 432x288 with 1 Axes>"
      ]
     },
     "metadata": {
      "needs_background": "light"
     },
     "output_type": "display_data"
    }
   ],
   "source": [
    "sns.histplot([v for k, v in nx.degree(GAAdj)])"
   ]
  },
  {
   "cell_type": "code",
   "execution_count": 136,
   "metadata": {},
   "outputs": [
    {
     "data": {
      "text/plain": [
       "Text(0.5, 1.0, 'Eigenvector')"
      ]
     },
     "execution_count": 136,
     "metadata": {},
     "output_type": "execute_result"
    },
    {
     "data": {
      "image/png": "[encoded data removed]",
      "text/plain": [
       "<Figure size 720x360 with 4 Axes>"
      ]
     },
     "metadata": {
      "needs_background": "light"
     },
     "output_type": "display_data"
    }
   ],
   "source": [
    "fig, axs = plt.subplots(2, 2, figsize = (10, 5))\n",
    "\n",
    "axs[0, 0].hist(nx.centrality.degree_centrality(GAAdj).values())\n",
    "axs[0, 0].set_title('Degree')\n",
    "\n",
    "axs[0, 1].hist(nx.centrality.betweenness_centrality(GAAdj).values())\n",
    "axs[0, 1].set_title('Betweenness')\n",
    "\n",
    "axs[1, 0].hist(nx.centrality.closeness_centrality(GAAdj).values())\n",
    "axs[1, 0].set_title('Closeness')\n",
    "\n",
    "axs[1, 1].hist(nx.centrality.eigenvector_centrality(GAAdj).values())\n",
    "axs[1, 1].set_title('Eigenvector')"
   ]
  },
  {
   "cell_type": "code",
   "execution_count": 135,
   "metadata": {},
   "outputs": [
    {
     "name": "stdout",
     "output_type": "stream",
     "text": [
      "Clustering Average: 0.23096326846855988\n",
      "Number of connected components:  381\n",
      "Size of largest connected components: 603\n"
     ]
    }
   ],
   "source": [
    "#Cluster Average\n",
    "print(\"Clustering Average:\", nx.cluster.average_clustering(GAAdj))\n",
    "\n",
    "#Number of connected components\n",
    "print(\"Number of connected components: \", nx.number_connected_components(GAAdj))\n",
    "\n",
    "#Size of largest connected components\n",
    "print(\"Size of largest connected components:\", len(max(nx.connected_components(GAAdj), key = len)))"
   ]
  },
  {
   "attachments": {},
   "cell_type": "markdown",
   "metadata": {},
   "source": [
    "## Number of ties between people of the same sex"
   ]
  },
  {
   "cell_type": "code",
   "execution_count": 117,
   "metadata": {},
   "outputs": [
    {
     "name": "stdout",
     "output_type": "stream",
     "text": [
      "Number of Ties between Same Sex:  3718\n",
      "Number of Nodes without Gender Attribute:  2404\n",
      "Percentage of Reaching out to Same Gender, excluding non-gendered nodes: 0.5631626779763708\n"
     ]
    }
   ],
   "source": [
    "number_ties = 0\n",
    "no_gender_nodes = 0\n",
    "\n",
    "for u,v in GAAdj.edges():\n",
    "    #Note: There are some node without gender attribute, we ignore them in this scenari\n",
    "    try: \n",
    "      if (GAAdj.nodes[u]['gender'] == GAAdj.nodes[v]['gender']):\n",
    "        number_ties += 1\n",
    "    except:\n",
    "       no_gender_nodes += 1\n",
    "       pass\n",
    "\n",
    "print(\"Number of Ties between Same Sex: \", number_ties)\n",
    "print(\"Number of Nodes without Gender Attribute: \", no_gender_nodes)\n",
    "\n",
    "both_labeled_edges = 0\n",
    "not_labeled_edges = 0 \n",
    "\n",
    "for u,v in GAAdj.edges():\n",
    "    #Note: There are some node without gender attribute, we ignore them in this scenari\n",
    "    try: \n",
    "      if (GAAdj.nodes[u]['gender']) and (GAAdj.nodes[v]['gender']):\n",
    "        both_labeled_edges += 1\n",
    "    except:\n",
    "       not_labeled_edges += 1\n",
    "       pass\n",
    "    \n",
    "#print((both_labeled_edges + not_labeled_edges) == GAAdj.number_of_edges())\n",
    "print(\"Percentage of Reaching out to Same Gender, excluding non-gendered nodes:\", number_ties / both_labeled_edges)\n"
   ]
  },
  {
   "cell_type": "code",
   "execution_count": null,
   "metadata": {},
   "outputs": [],
   "source": [
    "# Number of ties between people working in the same department\n",
    "\n",
    "# Number of ties between different combinations of leaders(1) and non-leaders(0)\n",
    "# Total messages sent: sum of (messages sent from sender to receiver)/100 for all Advice ties"
   ]
  }
 ],
 "metadata": {
  "kernelspec": {
   "display_name": "Python 3",
   "language": "python",
   "name": "python3"
  },
  "language_info": {
   "codemirror_mode": {
    "name": "ipython",
    "version": 3
   },
   "file_extension": ".py",
   "mimetype": "text/x-python",
   "name": "python",
   "nbconvert_exporter": "python",
   "pygments_lexer": "ipython3",
   "version": "3.9.12"
  },
  "orig_nbformat": 4,
  "vscode": {
   "interpreter": {
    "hash": "511e2e4229bdf73f6a9bbb503e2d83b0eadb7dfa37821518ac6482ab18204c97"
   }
  }
 },
 "nbformat": 4,
 "nbformat_minor": 2
}
